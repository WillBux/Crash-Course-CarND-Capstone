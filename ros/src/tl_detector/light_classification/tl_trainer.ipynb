{
 "cells": [
  {
   "cell_type": "code",
   "execution_count": null,
   "metadata": {
    "collapsed": false
   },
   "outputs": [
    {
     "name": "stderr",
     "output_type": "stream",
     "text": [
      "Using TensorFlow backend.\n"
     ]
    }
   ],
   "source": [
    "from keras.models import Sequential\n",
    "from keras.layers import *\n",
    "import numpy as np\n",
    "from sklearn.model_selection import train_test_split\n",
    "import glob"
   ]
  },
  {
   "cell_type": "code",
   "execution_count": null,
   "metadata": {
    "collapsed": false
   },
   "outputs": [],
   "source": [
    "img_width = 600\n",
    "img_height = 800\n",
    "alpha = 0.001\n",
    "\n",
    "model = Sequential()\n",
    "model.add(ZeroPadding2D((1, 1), input_shape=(img_width, img_height, 3)))\n",
    "\n",
    "model.add(Conv2D(64, (3, 3), name='conv1_1'))\n",
    "model.add(LeakyReLU(alpha=alpha))\n",
    "model.add(ZeroPadding2D((1, 1)))\n",
    "model.add(Conv2D(64, (3, 3), name='conv1_2'))\n",
    "model.add(LeakyReLU(alpha=alpha))\n",
    "model.add(MaxPooling2D((2, 2), strides=(2, 2)))\n",
    "\n",
    "model.add(ZeroPadding2D((1, 1)))\n",
    "model.add(Conv2D(128, (3, 3), name='conv2_1'))\n",
    "model.add(LeakyReLU(alpha=alpha))\n",
    "model.add(ZeroPadding2D((1, 1)))\n",
    "model.add(Conv2D(128, (3, 3), name='conv2_2'))\n",
    "model.add(LeakyReLU(alpha=alpha))\n",
    "model.add(MaxPooling2D((2, 2), strides=(2, 2)))\n",
    "\n",
    "model.add(ZeroPadding2D((1, 1)))\n",
    "model.add(Conv2D(256, (3, 3), name='conv3_1'))\n",
    "model.add(LeakyReLU(alpha=alpha))\n",
    "model.add(ZeroPadding2D((1, 1)))\n",
    "model.add(Conv2D(256, (3, 3), name='conv3_2'))\n",
    "model.add(LeakyReLU(alpha=alpha))\n",
    "model.add(ZeroPadding2D((1, 1)))\n",
    "model.add(Conv2D(256, (3, 3), name='conv3_3'))\n",
    "model.add(LeakyReLU(alpha=alpha))\n",
    "model.add(MaxPooling2D((2, 2), strides=(2, 2)))\n",
    "\n",
    "model.add(ZeroPadding2D((1, 1)))\n",
    "model.add(Conv2D(512, (3, 3), name='conv4_1'))\n",
    "model.add(LeakyReLU(alpha=alpha))\n",
    "model.add(ZeroPadding2D((1, 1)))\n",
    "model.add(Conv2D(512, (3, 3), name='conv4_2'))\n",
    "model.add(LeakyReLU(alpha=alpha))\n",
    "model.add(ZeroPadding2D((1, 1)))\n",
    "model.add(Conv2D(512, (3, 3), name='conv4_3'))\n",
    "model.add(LeakyReLU(alpha=alpha))\n",
    "model.add(MaxPooling2D((2, 2), strides=(2, 2)))\n",
    "\n",
    "model.add(ZeroPadding2D((1, 1)))\n",
    "model.add(Conv2D(512, (3, 3), name='conv5_1'))\n",
    "model.add(LeakyReLU(alpha=alpha))\n",
    "model.add(ZeroPadding2D((1, 1)))\n",
    "model.add(Conv2D(512, (3, 3), name='conv5_2'))\n",
    "model.add(LeakyReLU(alpha=alpha))\n",
    "model.add(ZeroPadding2D((1, 1)))\n",
    "model.add(Conv2D(512, (3, 3), name='conv5_3'))\n",
    "model.add(LeakyReLU(alpha=alpha))\n",
    "model.add(MaxPooling2D((2, 2), strides=(2, 2)))\n",
    "model.add(Dense(1024))\n",
    "model.add(LeakyReLU(alpha=alpha))\n",
    "model.add(Dense(512))\n",
    "model.add(LeakyReLU(alpha=alpha))\n",
    "model.add(Dense(256))\n",
    "model.add(LeakyReLU(alpha=alpha))\n",
    "model.add(Dense(128))\n",
    "model.add(LeakyReLU(alpha=alpha))\n",
    "model.add(Dense(64))\n",
    "model.add(LeakyReLU(alpha=alpha))\n",
    "model.add(Dense(32))\n",
    "model.add(LeakyReLU(alpha=alpha))\n",
    "model.add(Dense(16))\n",
    "model.add(LeakyReLU(alpha=alpha))\n",
    "model.add(Dense(8))\n",
    "model.add(LeakyReLU(alpha=alpha))\n",
    "model.add(Dense(4))\n",
    "model.add(LeakyReLU(alpha=alpha))\n",
    "model.add(Dense(2))\n",
    "model.add(LeakyReLU(alpha=alpha))\n",
    "model.add(Dense(1))"
   ]
  },
  {
   "cell_type": "code",
   "execution_count": null,
   "metadata": {},
   "outputs": [],
   "source": [
    "X_data = []\n",
    "Y_data = []\n",
    "\n",
    "files = glob.glob(\"/data/*.PNG\")\n",
    "for file in files:\n",
    "    img = cv2.imread(file)\n",
    "    img = cv2.resize(img, (1368, 1096))\n",
    "    X_data.append(img)\n",
    "    if 'red' in file:\n",
    "        y_data.append(0)\n",
    "    else:\n",
    "        y_data.append(1)\n",
    "\n",
    "files = glob.glob(\"/data/red/*.PNG\")\n"
    "for file in files:\n",
    "    img = cv2.imread(file)\n",
    "    img = cv2.resize(img, (1368, 1096))\n",
    "    X_data.append(img)\n",
    "    y_data.append(0)\n",
    "\n",
    "files = glob.glob(\"/data/yellow/*.PNG\")\n"
    "for file in files:\n",
    "    img = cv2.imread(file)\n",
    "    img = cv2.resize(img, (1368, 1096))\n",
    "    X_data.append(img)\n",
    "    y_data.append(0)\n",
    "\n",
    "files = glob.glob(\"/data/green/*.PNG\")\n"
    "for file in files:\n",
    "    img = cv2.imread(file)\n",
    "    img = cv2.resize(img, (1368, 1096))\n",
    "    X_data.append(img)\n",
    "    y_data.append(1)\n",
    "\n",
    "X = np.array(X_data)\n",
    "y = np.array(Y_data)\n",
    "\n",
    "assert(X.shape[0] == y.shape[0])"
   ]
  },
  {
   "cell_type": "code",
   "execution_count": 26,
   "metadata": {},
   "outputs": [],
   "source": [
    "model.compile(optimizer='rmsprop', loss='binary_crossentropy', metrics=['accuracy'])\n",
    "\n",
    "X = np.random.random((1000, img_width, img_height, 3))\n",
    "y = np.random.randint(2, size=(1000, 1))\n",
    "\n",
    "X_train, X_test, y_train, y_test = train_test_split(X, y, test_size=0.33, random_state=42)\n",
    "model.fit(X_train, y_train, validation_split=0.2, shuffle=True, epochs=10, batch_size=32)\n"
   ]
  },
  {
   "cell_type": "code",
   "execution_count": 1,
   "metadata": {},
   "outputs": [
    {
     "ename": "NameError",
     "evalue": "name 'model' is not defined",
     "traceback": [
      "\u001b[0;31m---------------------------------------------------------------------------\u001b[0m",
      "\u001b[0;31mNameError\u001b[0m                                 Traceback (most recent call last)",
      "\u001b[0;32m<ipython-input-1-144f44462804>\u001b[0m in \u001b[0;36m<module>\u001b[0;34m()\u001b[0m\n\u001b[0;32m----> 1\u001b[0;31m \u001b[0mmodel\u001b[0m\u001b[0;34m.\u001b[0m\u001b[0msave\u001b[0m\u001b[0;34m(\u001b[0m\u001b[0;34m\"model.h5\"\u001b[0m\u001b[0;34m)\u001b[0m\u001b[0;34m\u001b[0m\u001b[0m\n\u001b[0m",
      "\u001b[0;31mNameError\u001b[0m: name 'model' is not defined"
     ],
     "output_type": "error"
    }
   ],
   "source": [
    "score = model.evaluate(X_test, y_test, verbose=0)\n",
    "print('Test loss:', score[0])\n",
    "print('Test accuracy:', score[1])"
   ]
  },
  {
   "cell_type": "code",
   "execution_count": null,
   "metadata": {},
   "outputs": [],
   "source": [
    "model.save(\"model.h5\")"
   ]
  }
 ],
 "metadata": {
  "kernelspec": {
   "display_name": "Python 2",
   "language": "python",
   "name": "python2"
  },
  "language_info": {
   "codemirror_mode": {
    "name": "ipython",
    "version": 2
   },
   "file_extension": ".py",
   "mimetype": "text/x-python",
   "name": "python",
   "nbconvert_exporter": "python",
   "pygments_lexer": "ipython2",
   "version": "2.7.6"
  }
 },
 "nbformat": 4,
 "nbformat_minor": 0
}
